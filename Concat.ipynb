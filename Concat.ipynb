{
 "cells": [
  {
   "attachments": {},
   "cell_type": "markdown",
   "metadata": {},
   "source": [
    "<center><h1> OBJECTIVE"
   ]
  },
  {
   "attachments": {},
   "cell_type": "markdown",
   "metadata": {},
   "source": [
    "<h3><i>1.  Merging the 2 CSV Files in the \"Graduate_split\" Folder into a Single CSV File. <br>\n",
    "<br>\n",
    "2.  Merging the 10 CSV Files in the \"Group_split\" Folder into a Single CSV File."
   ]
  },
  {
   "cell_type": "code",
   "execution_count": 22,
   "metadata": {},
   "outputs": [],
   "source": [
    "### import required Libraries\n",
    "import pandas as pd\n",
    "import os"
   ]
  },
  {
   "attachments": {},
   "cell_type": "markdown",
   "metadata": {},
   "source": [
    "<b><h3><i>1.  Merging the 2 CSV Files in the \"Graduate_split\" Folder into a Single CSV File. "
   ]
  },
  {
   "cell_type": "code",
   "execution_count": 23,
   "metadata": {},
   "outputs": [
    {
     "data": {
      "text/html": [
       "<div>\n",
       "<style scoped>\n",
       "    .dataframe tbody tr th:only-of-type {\n",
       "        vertical-align: middle;\n",
       "    }\n",
       "\n",
       "    .dataframe tbody tr th {\n",
       "        vertical-align: top;\n",
       "    }\n",
       "\n",
       "    .dataframe thead th {\n",
       "        text-align: right;\n",
       "    }\n",
       "</style>\n",
       "<table border=\"1\" class=\"dataframe\">\n",
       "  <thead>\n",
       "    <tr style=\"text-align: right;\">\n",
       "      <th></th>\n",
       "      <th>Name</th>\n",
       "      <th>Country</th>\n",
       "      <th>Sex</th>\n",
       "      <th>Age</th>\n",
       "      <th>University</th>\n",
       "      <th>Department</th>\n",
       "      <th>CGPA</th>\n",
       "    </tr>\n",
       "  </thead>\n",
       "  <tbody>\n",
       "    <tr>\n",
       "      <th>0</th>\n",
       "      <td>Renate Brimming</td>\n",
       "      <td>Argentina</td>\n",
       "      <td>M</td>\n",
       "      <td>40</td>\n",
       "      <td>Instituto Universitario Nacional del Arte</td>\n",
       "      <td>Engineering</td>\n",
       "      <td>3.80</td>\n",
       "    </tr>\n",
       "    <tr>\n",
       "      <th>1</th>\n",
       "      <td>Hayden Bowden</td>\n",
       "      <td>France</td>\n",
       "      <td>F</td>\n",
       "      <td>34</td>\n",
       "      <td>Ecole Nationale de l'Aviation Civile</td>\n",
       "      <td>Legal</td>\n",
       "      <td>2.96</td>\n",
       "    </tr>\n",
       "    <tr>\n",
       "      <th>2</th>\n",
       "      <td>Yale Edgeler</td>\n",
       "      <td>Malaysia</td>\n",
       "      <td>M</td>\n",
       "      <td>20</td>\n",
       "      <td>Islamic College for Sciences and Technologies</td>\n",
       "      <td>Training</td>\n",
       "      <td>2.06</td>\n",
       "    </tr>\n",
       "    <tr>\n",
       "      <th>3</th>\n",
       "      <td>Ericka Herity</td>\n",
       "      <td>Croatia</td>\n",
       "      <td>M</td>\n",
       "      <td>44</td>\n",
       "      <td>University of Rijeka</td>\n",
       "      <td>Accounting</td>\n",
       "      <td>2.62</td>\n",
       "    </tr>\n",
       "    <tr>\n",
       "      <th>4</th>\n",
       "      <td>Dominic Windrass</td>\n",
       "      <td>Philippines</td>\n",
       "      <td>F</td>\n",
       "      <td>39</td>\n",
       "      <td>Silliman University</td>\n",
       "      <td>Legal</td>\n",
       "      <td>1.60</td>\n",
       "    </tr>\n",
       "  </tbody>\n",
       "</table>\n",
       "</div>"
      ],
      "text/plain": [
       "              Name      Country  Sex  Age  \\\n",
       "0   Renate Brimming    Argentina   M   40   \n",
       "1     Hayden Bowden       France   F   34   \n",
       "2      Yale Edgeler     Malaysia   M   20   \n",
       "3     Ericka Herity      Croatia   M   44   \n",
       "4  Dominic Windrass  Philippines   F   39   \n",
       "\n",
       "                                     University   Department   CGPA  \n",
       "0      Instituto Universitario Nacional del Arte  Engineering  3.80  \n",
       "1           Ecole Nationale de l'Aviation Civile        Legal  2.96  \n",
       "2  Islamic College for Sciences and Technologies     Training  2.06  \n",
       "3                           University of Rijeka   Accounting  2.62  \n",
       "4                            Silliman University        Legal  1.60  "
      ]
     },
     "execution_count": 23,
     "metadata": {},
     "output_type": "execute_result"
    }
   ],
   "source": [
    "## viewing the pattern of the Dataset\n",
    "df = pd.read_csv('./Graduate_split//Graduate_1.csv')\n",
    "df.head()"
   ]
  },
  {
   "attachments": {},
   "cell_type": "markdown",
   "metadata": {},
   "source": [
    "### <i>Graduate_1 Dataset Rows and Columns"
   ]
  },
  {
   "cell_type": "code",
   "execution_count": 24,
   "metadata": {},
   "outputs": [
    {
     "data": {
      "text/plain": [
       "(5000, 7)"
      ]
     },
     "execution_count": 24,
     "metadata": {},
     "output_type": "execute_result"
    }
   ],
   "source": [
    "df.shape"
   ]
  },
  {
   "attachments": {},
   "cell_type": "markdown",
   "metadata": {},
   "source": [
    "### <i>Data Processing"
   ]
  },
  {
   "cell_type": "code",
   "execution_count": 25,
   "metadata": {},
   "outputs": [
    {
     "data": {
      "text/html": [
       "<div>\n",
       "<style scoped>\n",
       "    .dataframe tbody tr th:only-of-type {\n",
       "        vertical-align: middle;\n",
       "    }\n",
       "\n",
       "    .dataframe tbody tr th {\n",
       "        vertical-align: top;\n",
       "    }\n",
       "\n",
       "    .dataframe thead th {\n",
       "        text-align: right;\n",
       "    }\n",
       "</style>\n",
       "<table border=\"1\" class=\"dataframe\">\n",
       "  <thead>\n",
       "    <tr style=\"text-align: right;\">\n",
       "      <th></th>\n",
       "      <th>Name</th>\n",
       "      <th>Country</th>\n",
       "      <th>Sex</th>\n",
       "      <th>Age</th>\n",
       "      <th>University</th>\n",
       "      <th>Department</th>\n",
       "      <th>CGPA</th>\n",
       "    </tr>\n",
       "  </thead>\n",
       "  <tbody>\n",
       "    <tr>\n",
       "      <th>0</th>\n",
       "      <td>Renate Brimming</td>\n",
       "      <td>Argentina</td>\n",
       "      <td>M</td>\n",
       "      <td>40</td>\n",
       "      <td>Instituto Universitario Nacional del Arte</td>\n",
       "      <td>Engineering</td>\n",
       "      <td>3.80</td>\n",
       "    </tr>\n",
       "    <tr>\n",
       "      <th>1</th>\n",
       "      <td>Hayden Bowden</td>\n",
       "      <td>France</td>\n",
       "      <td>F</td>\n",
       "      <td>34</td>\n",
       "      <td>Ecole Nationale de l'Aviation Civile</td>\n",
       "      <td>Legal</td>\n",
       "      <td>2.96</td>\n",
       "    </tr>\n",
       "    <tr>\n",
       "      <th>2</th>\n",
       "      <td>Yale Edgeler</td>\n",
       "      <td>Malaysia</td>\n",
       "      <td>M</td>\n",
       "      <td>20</td>\n",
       "      <td>Islamic College for Sciences and Technologies</td>\n",
       "      <td>Training</td>\n",
       "      <td>2.06</td>\n",
       "    </tr>\n",
       "    <tr>\n",
       "      <th>3</th>\n",
       "      <td>Ericka Herity</td>\n",
       "      <td>Croatia</td>\n",
       "      <td>M</td>\n",
       "      <td>44</td>\n",
       "      <td>University of Rijeka</td>\n",
       "      <td>Accounting</td>\n",
       "      <td>2.62</td>\n",
       "    </tr>\n",
       "    <tr>\n",
       "      <th>4</th>\n",
       "      <td>Dominic Windrass</td>\n",
       "      <td>Philippines</td>\n",
       "      <td>F</td>\n",
       "      <td>39</td>\n",
       "      <td>Silliman University</td>\n",
       "      <td>Legal</td>\n",
       "      <td>1.60</td>\n",
       "    </tr>\n",
       "  </tbody>\n",
       "</table>\n",
       "</div>"
      ],
      "text/plain": [
       "              Name      Country  Sex  Age  \\\n",
       "0   Renate Brimming    Argentina   M   40   \n",
       "1     Hayden Bowden       France   F   34   \n",
       "2      Yale Edgeler     Malaysia   M   20   \n",
       "3     Ericka Herity      Croatia   M   44   \n",
       "4  Dominic Windrass  Philippines   F   39   \n",
       "\n",
       "                                     University   Department   CGPA  \n",
       "0      Instituto Universitario Nacional del Arte  Engineering  3.80  \n",
       "1           Ecole Nationale de l'Aviation Civile        Legal  2.96  \n",
       "2  Islamic College for Sciences and Technologies     Training  2.06  \n",
       "3                           University of Rijeka   Accounting  2.62  \n",
       "4                            Silliman University        Legal  1.60  "
      ]
     },
     "execution_count": 25,
     "metadata": {},
     "output_type": "execute_result"
    }
   ],
   "source": [
    "files = [file for file in os.listdir('./Graduate_split/')]\n",
    "graduates = pd.DataFrame()\n",
    "for file in files:\n",
    "    df = pd.read_csv('./Graduate_split/'+ file)\n",
    "    graduates= pd.concat([graduates,df])\n",
    "## the first 5 rows of the Merged Data\n",
    "graduates.head()"
   ]
  },
  {
   "attachments": {},
   "cell_type": "markdown",
   "metadata": {},
   "source": [
    "### <i>The Merged Dataset Rows and Columns"
   ]
  },
  {
   "cell_type": "code",
   "execution_count": 26,
   "metadata": {},
   "outputs": [
    {
     "data": {
      "text/plain": [
       "(10000, 7)"
      ]
     },
     "execution_count": 26,
     "metadata": {},
     "output_type": "execute_result"
    }
   ],
   "source": [
    "graduates.shape"
   ]
  },
  {
   "attachments": {},
   "cell_type": "markdown",
   "metadata": {},
   "source": [
    "### <i>Converting the Merged_Graduate Dataframe to CSV file"
   ]
  },
  {
   "cell_type": "code",
   "execution_count": 34,
   "metadata": {},
   "outputs": [],
   "source": [
    "graduates.to_csv('Merge_Graduate.csv', index= False)"
   ]
  },
  {
   "attachments": {},
   "cell_type": "markdown",
   "metadata": {},
   "source": [
    "### <b> <i>2.  Merging the 10 CSV Files in the \"Group_split\" Folder into a Single CSV File."
   ]
  },
  {
   "cell_type": "code",
   "execution_count": 28,
   "metadata": {},
   "outputs": [
    {
     "data": {
      "text/html": [
       "<div>\n",
       "<style scoped>\n",
       "    .dataframe tbody tr th:only-of-type {\n",
       "        vertical-align: middle;\n",
       "    }\n",
       "\n",
       "    .dataframe tbody tr th {\n",
       "        vertical-align: top;\n",
       "    }\n",
       "\n",
       "    .dataframe thead th {\n",
       "        text-align: right;\n",
       "    }\n",
       "</style>\n",
       "<table border=\"1\" class=\"dataframe\">\n",
       "  <thead>\n",
       "    <tr style=\"text-align: right;\">\n",
       "      <th></th>\n",
       "      <th>Name</th>\n",
       "      <th>Country</th>\n",
       "      <th>Sex</th>\n",
       "      <th>Age</th>\n",
       "      <th>University</th>\n",
       "      <th>Department</th>\n",
       "      <th>CGPA</th>\n",
       "    </tr>\n",
       "  </thead>\n",
       "  <tbody>\n",
       "    <tr>\n",
       "      <th>0</th>\n",
       "      <td>Jaquelin Pleasance</td>\n",
       "      <td>Indonesia</td>\n",
       "      <td>M</td>\n",
       "      <td>34</td>\n",
       "      <td>Universitas Pasundan</td>\n",
       "      <td>Engineering</td>\n",
       "      <td>1.89</td>\n",
       "    </tr>\n",
       "    <tr>\n",
       "      <th>1</th>\n",
       "      <td>Jocelyn Rothschild</td>\n",
       "      <td>Portugal</td>\n",
       "      <td>F</td>\n",
       "      <td>32</td>\n",
       "      <td>Instituto Superior de Ciências Empresariais e ...</td>\n",
       "      <td>Product Management</td>\n",
       "      <td>2.31</td>\n",
       "    </tr>\n",
       "    <tr>\n",
       "      <th>2</th>\n",
       "      <td>Stefan Durnford</td>\n",
       "      <td>Poland</td>\n",
       "      <td>M</td>\n",
       "      <td>22</td>\n",
       "      <td>Christian Theological Academy in Warszaw</td>\n",
       "      <td>Human Resources</td>\n",
       "      <td>2.58</td>\n",
       "    </tr>\n",
       "    <tr>\n",
       "      <th>3</th>\n",
       "      <td>Blinny Tyrwhitt</td>\n",
       "      <td>Canada</td>\n",
       "      <td>M</td>\n",
       "      <td>36</td>\n",
       "      <td>St. Mary's University</td>\n",
       "      <td>Engineering</td>\n",
       "      <td>2.13</td>\n",
       "    </tr>\n",
       "    <tr>\n",
       "      <th>4</th>\n",
       "      <td>Correy Matelaitis</td>\n",
       "      <td>New Zealand</td>\n",
       "      <td>F</td>\n",
       "      <td>21</td>\n",
       "      <td>Open Polytechnic</td>\n",
       "      <td>Business Development</td>\n",
       "      <td>3.90</td>\n",
       "    </tr>\n",
       "  </tbody>\n",
       "</table>\n",
       "</div>"
      ],
      "text/plain": [
       "                Name      Country  Sex  Age  \\\n",
       "0  Jaquelin Pleasance    Indonesia   M   34   \n",
       "1  Jocelyn Rothschild     Portugal   F   32   \n",
       "2     Stefan Durnford       Poland   M   22   \n",
       "3     Blinny Tyrwhitt       Canada   M   36   \n",
       "4   Correy Matelaitis  New Zealand   F   21   \n",
       "\n",
       "                                         University            Department   \\\n",
       "0                               Universitas Pasundan           Engineering   \n",
       "1  Instituto Superior de Ciências Empresariais e ...    Product Management   \n",
       "2           Christian Theological Academy in Warszaw       Human Resources   \n",
       "3                              St. Mary's University           Engineering   \n",
       "4                                  Open Polytechnic   Business Development   \n",
       "\n",
       "   CGPA  \n",
       "0  1.89  \n",
       "1  2.31  \n",
       "2  2.58  \n",
       "3  2.13  \n",
       "4  3.90  "
      ]
     },
     "execution_count": 28,
     "metadata": {},
     "output_type": "execute_result"
    }
   ],
   "source": [
    "## viewing the pattern of the Dataset\n",
    "df2 = pd.read_csv('./Group_split/Group_1.csv')\n",
    "df2.head()"
   ]
  },
  {
   "attachments": {},
   "cell_type": "markdown",
   "metadata": {},
   "source": [
    "### <i>Group_1 Dataset Rows and Columns"
   ]
  },
  {
   "cell_type": "code",
   "execution_count": 29,
   "metadata": {},
   "outputs": [
    {
     "data": {
      "text/plain": [
       "(1000, 7)"
      ]
     },
     "execution_count": 29,
     "metadata": {},
     "output_type": "execute_result"
    }
   ],
   "source": [
    "df2.shape"
   ]
  },
  {
   "attachments": {},
   "cell_type": "markdown",
   "metadata": {},
   "source": [
    "### <i>Data Processing"
   ]
  },
  {
   "cell_type": "code",
   "execution_count": 30,
   "metadata": {},
   "outputs": [
    {
     "data": {
      "text/html": [
       "<div>\n",
       "<style scoped>\n",
       "    .dataframe tbody tr th:only-of-type {\n",
       "        vertical-align: middle;\n",
       "    }\n",
       "\n",
       "    .dataframe tbody tr th {\n",
       "        vertical-align: top;\n",
       "    }\n",
       "\n",
       "    .dataframe thead th {\n",
       "        text-align: right;\n",
       "    }\n",
       "</style>\n",
       "<table border=\"1\" class=\"dataframe\">\n",
       "  <thead>\n",
       "    <tr style=\"text-align: right;\">\n",
       "      <th></th>\n",
       "      <th>Name</th>\n",
       "      <th>Country</th>\n",
       "      <th>Sex</th>\n",
       "      <th>Age</th>\n",
       "      <th>University</th>\n",
       "      <th>Department</th>\n",
       "      <th>CGPA</th>\n",
       "    </tr>\n",
       "  </thead>\n",
       "  <tbody>\n",
       "    <tr>\n",
       "      <th>0</th>\n",
       "      <td>Jaquelin Pleasance</td>\n",
       "      <td>Indonesia</td>\n",
       "      <td>M</td>\n",
       "      <td>34</td>\n",
       "      <td>Universitas Pasundan</td>\n",
       "      <td>Engineering</td>\n",
       "      <td>1.89</td>\n",
       "    </tr>\n",
       "    <tr>\n",
       "      <th>1</th>\n",
       "      <td>Jocelyn Rothschild</td>\n",
       "      <td>Portugal</td>\n",
       "      <td>F</td>\n",
       "      <td>32</td>\n",
       "      <td>Instituto Superior de Ciências Empresariais e ...</td>\n",
       "      <td>Product Management</td>\n",
       "      <td>2.31</td>\n",
       "    </tr>\n",
       "    <tr>\n",
       "      <th>2</th>\n",
       "      <td>Stefan Durnford</td>\n",
       "      <td>Poland</td>\n",
       "      <td>M</td>\n",
       "      <td>22</td>\n",
       "      <td>Christian Theological Academy in Warszaw</td>\n",
       "      <td>Human Resources</td>\n",
       "      <td>2.58</td>\n",
       "    </tr>\n",
       "    <tr>\n",
       "      <th>3</th>\n",
       "      <td>Blinny Tyrwhitt</td>\n",
       "      <td>Canada</td>\n",
       "      <td>M</td>\n",
       "      <td>36</td>\n",
       "      <td>St. Mary's University</td>\n",
       "      <td>Engineering</td>\n",
       "      <td>2.13</td>\n",
       "    </tr>\n",
       "    <tr>\n",
       "      <th>4</th>\n",
       "      <td>Correy Matelaitis</td>\n",
       "      <td>New Zealand</td>\n",
       "      <td>F</td>\n",
       "      <td>21</td>\n",
       "      <td>Open Polytechnic</td>\n",
       "      <td>Business Development</td>\n",
       "      <td>3.90</td>\n",
       "    </tr>\n",
       "    <tr>\n",
       "      <th>5</th>\n",
       "      <td>Claudina De Roeck</td>\n",
       "      <td>Sweden</td>\n",
       "      <td>F</td>\n",
       "      <td>44</td>\n",
       "      <td>Royal lnstitute of Technology</td>\n",
       "      <td>Product Management</td>\n",
       "      <td>2.84</td>\n",
       "    </tr>\n",
       "    <tr>\n",
       "      <th>6</th>\n",
       "      <td>Ashla Ollett</td>\n",
       "      <td>China</td>\n",
       "      <td>F</td>\n",
       "      <td>35</td>\n",
       "      <td>Henan Agriculture University</td>\n",
       "      <td>Human Resources</td>\n",
       "      <td>2.01</td>\n",
       "    </tr>\n",
       "    <tr>\n",
       "      <th>7</th>\n",
       "      <td>Agnella January 1st</td>\n",
       "      <td>Bosnia and Herzegovina</td>\n",
       "      <td>F</td>\n",
       "      <td>36</td>\n",
       "      <td>Univerzitet u Mostaru \"Dzemal Bijedic\"</td>\n",
       "      <td>Support</td>\n",
       "      <td>4.68</td>\n",
       "    </tr>\n",
       "    <tr>\n",
       "      <th>8</th>\n",
       "      <td>Addy Wareham</td>\n",
       "      <td>China</td>\n",
       "      <td>F</td>\n",
       "      <td>39</td>\n",
       "      <td>North China University of Technology</td>\n",
       "      <td>Legal</td>\n",
       "      <td>2.71</td>\n",
       "    </tr>\n",
       "    <tr>\n",
       "      <th>9</th>\n",
       "      <td>Jim Papaminas</td>\n",
       "      <td>Russia</td>\n",
       "      <td>M</td>\n",
       "      <td>31</td>\n",
       "      <td>Yugra State University</td>\n",
       "      <td>Human Resources</td>\n",
       "      <td>2.68</td>\n",
       "    </tr>\n",
       "  </tbody>\n",
       "</table>\n",
       "</div>"
      ],
      "text/plain": [
       "                 Name                 Country  Sex  Age  \\\n",
       "0   Jaquelin Pleasance               Indonesia   M   34   \n",
       "1   Jocelyn Rothschild                Portugal   F   32   \n",
       "2      Stefan Durnford                  Poland   M   22   \n",
       "3      Blinny Tyrwhitt                  Canada   M   36   \n",
       "4    Correy Matelaitis             New Zealand   F   21   \n",
       "5    Claudina De Roeck                  Sweden   F   44   \n",
       "6         Ashla Ollett                   China   F   35   \n",
       "7  Agnella January 1st  Bosnia and Herzegovina   F   36   \n",
       "8         Addy Wareham                   China   F   39   \n",
       "9        Jim Papaminas                  Russia   M   31   \n",
       "\n",
       "                                         University            Department   \\\n",
       "0                               Universitas Pasundan           Engineering   \n",
       "1  Instituto Superior de Ciências Empresariais e ...    Product Management   \n",
       "2           Christian Theological Academy in Warszaw       Human Resources   \n",
       "3                              St. Mary's University           Engineering   \n",
       "4                                  Open Polytechnic   Business Development   \n",
       "5                      Royal lnstitute of Technology    Product Management   \n",
       "6                       Henan Agriculture University       Human Resources   \n",
       "7             Univerzitet u Mostaru \"Dzemal Bijedic\"               Support   \n",
       "8               North China University of Technology                 Legal   \n",
       "9                             Yugra State University       Human Resources   \n",
       "\n",
       "   CGPA  \n",
       "0  1.89  \n",
       "1  2.31  \n",
       "2  2.58  \n",
       "3  2.13  \n",
       "4  3.90  \n",
       "5  2.84  \n",
       "6  2.01  \n",
       "7  4.68  \n",
       "8  2.71  \n",
       "9  2.68  "
      ]
     },
     "execution_count": 30,
     "metadata": {},
     "output_type": "execute_result"
    }
   ],
   "source": [
    "files = [file for file in os.listdir('./Group_split/')]\n",
    "groups = pd.DataFrame()\n",
    "for file in files:\n",
    "    df2 = pd.read_csv('./Group_split/'+ file)\n",
    "    groups= pd.concat([groups,df2])\n",
    "\n",
    "## The first 10 rows of the Merged Data\n",
    "groups.head(10)"
   ]
  },
  {
   "attachments": {},
   "cell_type": "markdown",
   "metadata": {},
   "source": [
    "### <i>The Merged Dataset Rows and Columns"
   ]
  },
  {
   "cell_type": "code",
   "execution_count": 31,
   "metadata": {},
   "outputs": [
    {
     "data": {
      "text/plain": [
       "(10000, 7)"
      ]
     },
     "execution_count": 31,
     "metadata": {},
     "output_type": "execute_result"
    }
   ],
   "source": [
    "groups.shape"
   ]
  },
  {
   "attachments": {},
   "cell_type": "markdown",
   "metadata": {},
   "source": [
    "### <i>Converting the Merged_Group Dataframe to CSV file"
   ]
  },
  {
   "cell_type": "code",
   "execution_count": 33,
   "metadata": {},
   "outputs": [],
   "source": [
    "groups.to_csv('Merge_Group.csv', index= False)"
   ]
  }
 ],
 "metadata": {
  "kernelspec": {
   "display_name": "dsc_1",
   "language": "python",
   "name": "python3"
  },
  "language_info": {
   "codemirror_mode": {
    "name": "ipython",
    "version": 3
   },
   "file_extension": ".py",
   "mimetype": "text/x-python",
   "name": "python",
   "nbconvert_exporter": "python",
   "pygments_lexer": "ipython3",
   "version": "3.8.5"
  },
  "orig_nbformat": 4,
  "vscode": {
   "interpreter": {
    "hash": "3ec1af056989a86cbb62c82caea1225bc68bc355551c8a69d9e52cece20ca5ce"
   }
  }
 },
 "nbformat": 4,
 "nbformat_minor": 2
}
